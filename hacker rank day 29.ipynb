{
 "cells": [
  {
   "cell_type": "code",
   "execution_count": 19,
   "metadata": {},
   "outputs": [],
   "source": [
    "#!/bin/python3\n",
    "\n",
    "import math\n",
    "import os\n",
    "import random\n",
    "import re\n",
    "import sys\n",
    "\n",
    "\n",
    "def get_answer(n,k):\n",
    "    if k%2 == 1: \n",
    "        return k-1   # A= k-1, B= k A&B = k-1\n",
    "    #\n",
    "    # when k is even the answer is either k-1 or k-2 depending\n",
    "    # on how big n is. We convert k-1 to a binary string and then \n",
    "    # replace the rightmost '0' with '1'. If this converted value\n",
    "    # is less than n we return k-1 otherwise we return k-2\n",
    "    #\n",
    "    test_string = bin(k-1)[2:]\n",
    "    test_string_list = list(test_string)\n",
    "     # we truncate the first two '0b' characters\n",
    "     #print(\"test_string \" + test_string)\n",
    "    if '0' in test_string_list:\n",
    "        for i in range(len(test_string))[::-1]:\n",
    "            if test_string_list[i] == '0':\n",
    "                test_string_list[i] = '1'\n",
    "                test_string = \"\".join(test_string_list)\n",
    "                if int(test_string,2) < n:\n",
    "                    return k-1\n",
    "                else: return k-2\n",
    "           \n",
    "    else: \n",
    "        if int((test_string + '1'),2) <= n:\n",
    "            return k-1\n",
    "        else: return k-2\n",
    "\n",
    "    return k-2\n",
    "\n"
   ]
  },
  {
   "cell_type": "code",
   "execution_count": 26,
   "metadata": {},
   "outputs": [
    {
     "data": {
      "text/plain": [
       "0"
      ]
     },
     "execution_count": 26,
     "metadata": {},
     "output_type": "execute_result"
    }
   ],
   "source": [
    "get_answer(2,2)"
   ]
  },
  {
   "cell_type": "code",
   "execution_count": null,
   "metadata": {},
   "outputs": [],
   "source": [
    "# The calling program\n",
    "if __name__ == '__main__':\n",
    "    t = int(input())\n",
    "\n",
    "    for t_itr in range(t):\n",
    "        nk = input().split()\n",
    "\n",
    "        n = int(nk[0])\n",
    "        k = int(nk[1])\n",
    "        print(get_answer(n,k))\n"
   ]
  },
  {
   "cell_type": "code",
   "execution_count": 29,
   "metadata": {},
   "outputs": [
    {
     "data": {
      "text/plain": [
       "'1101'"
      ]
     },
     "execution_count": 29,
     "metadata": {},
     "output_type": "execute_result"
    }
   ],
   "source": [
    "x='1111'\n",
    "y=list(x)\n",
    "y[2]='0'\n",
    "z=\"\".join(y)\n",
    "z"
   ]
  },
  {
   "cell_type": "code",
   "execution_count": 31,
   "metadata": {},
   "outputs": [
    {
     "data": {
      "text/plain": [
       "True"
      ]
     },
     "execution_count": 31,
     "metadata": {},
     "output_type": "execute_result"
    }
   ],
   "source": [
    "'1' in x"
   ]
  }
 ],
 "metadata": {
  "kernelspec": {
   "display_name": "Python 3",
   "language": "python",
   "name": "python3"
  },
  "language_info": {
   "codemirror_mode": {
    "name": "ipython",
    "version": 3
   },
   "file_extension": ".py",
   "mimetype": "text/x-python",
   "name": "python",
   "nbconvert_exporter": "python",
   "pygments_lexer": "ipython3",
   "version": "3.8.5"
  }
 },
 "nbformat": 4,
 "nbformat_minor": 4
}
