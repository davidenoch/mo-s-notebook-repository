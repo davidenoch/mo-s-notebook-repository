{
 "cells": [
  {
   "cell_type": "markdown",
   "metadata": {},
   "source": [
    "# mo and tam gridland project\n",
    "\n",
    "\n",
    "The Kingdom of Gridland contains __P__ provinces. Each province is defined as a __2 x N__ grid where each cell in the grid represents a city. Every cell in the grid contains a single lowercase character denoting the first character of the city name corresponding to that cell.\n",
    "\n",
    "From a ciy with the coordinates $(i.j)$, , it is possible to move to any of the following cells in _$1$_ unit of time (provided that the destination cell is within the confines of the grid):\n",
    "\n",
    "+ $(i-1,j)$\n",
    "\n",
    "+ $(i+1,j)$\n",
    "\n",
    "+ $(i,j-1)$\n",
    "\n",
    "+ $(i,j+1)$\n",
    "\n",
    "A knight wants to visit all the cities in Gridland. He can start his journey in any city and immediately stops his journey after having visited each city at least once. Moreover, he always plans his journey in such a way that the total time required to complete it is minimum.\n",
    "\n",
    "After completing his tour of each province, the knight forms a string by concatenating the characters of all the cells in his path. How many distinct strings can he form in each province?\n",
    "\n",
    "## Input Format\n",
    "The first line contains a single integer,$P$ , denoting the number of provinces. The $3 x P$  subsequent lines describe each province over the following three lines:\n",
    "The first line contains an integer, $N$, denoting the number of columns in the province.\n",
    "Each of the next two lines contains a string, $S$, of length $N$ denoting the characters for the first and second row of the province.\n",
    "\n",
    "## Constraints\n",
    "+ $1\\leq P \\leq 15$\n",
    "\n",
    "+ $1\\leq N \\leq 600$ \n",
    "\n",
    "+ $S_i \\in \\{a-z\\}$\n",
    "\n",
    "## Output Format\n",
    "For each province, print the number of distinct strings the knight can form on a new line.\n",
    "\n",
    "\n",
    "\n"
   ]
  },
  {
   "cell_type": "code",
   "execution_count": null,
   "metadata": {},
   "outputs": [],
   "source": []
  }
 ],
 "metadata": {
  "kernelspec": {
   "display_name": "Python 3",
   "language": "python",
   "name": "python3"
  },
  "language_info": {
   "codemirror_mode": {
    "name": "ipython",
    "version": 3
   },
   "file_extension": ".py",
   "mimetype": "text/x-python",
   "name": "python",
   "nbconvert_exporter": "python",
   "pygments_lexer": "ipython3",
   "version": "3.6.12"
  }
 },
 "nbformat": 4,
 "nbformat_minor": 4
}
