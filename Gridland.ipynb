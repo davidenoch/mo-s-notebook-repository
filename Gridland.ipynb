{
 "cells": [
  {
   "cell_type": "markdown",
   "metadata": {},
   "source": [
    "# mo and tam gridland project\n",
    "\n",
    "\n",
    "The Kingdom of Gridland contains __P__ provinces. Each province is defined as a __2 x N__ grid where each cell in the grid represents a city. Every cell in the grid contains a single lowercase character denoting the first character of the city name corresponding to that cell.\n",
    "\n",
    "From a ciy with the coordinates $(i.j)$, , it is possible to move to any of the following cells in _$1$_ unit of time (provided that the destination cell is within the confines of the grid):\n",
    "\n",
    "+ $(i-1,j)$\n",
    "\n",
    "+ $(i+1,j)$\n",
    "\n",
    "+ $(i,j-1)$\n",
    "\n",
    "+ $(i,j+1)$\n",
    "\n",
    "A knight wants to visit all the cities in Gridland. He can start his journey in any city and immediately stops his journey after having visited each city at least once. Moreover, he always plans his journey in such a way that the total time required to complete it is minimum.\n",
    "\n",
    "After completing his tour of each province, the knight forms a string by concatenating the characters of all the cells in his path. How many distinct strings can he form in each province?\n",
    "\n",
    "## Input Format\n",
    "The first line contains a single integer,$P$ , denoting the number of provinces. The $3 x P$  subsequent lines describe each province over the following three lines:\n",
    "The first line contains an integer, $N$, denoting the number of columns in the province.\n",
    "Each of the next two lines contains a string, $S$, of length $N$ denoting the characters for the first and second row of the province.\n",
    "\n",
    "## Constraints\n",
    "+ $1\\leq P \\leq 15$\n",
    "\n",
    "+ $1\\leq N \\leq 600$ \n",
    "\n",
    "+ $S_i \\in \\{a-z\\}$\n",
    "\n",
    "## Output Format\n",
    "For each province, print the number of distinct strings the knight can form on a new line.\n",
    "\n",
    "\n",
    "\n"
   ]
  },
  {
   "cell_type": "markdown",
   "metadata": {},
   "source": [
    "## Mo solution\n",
    "First off we consider the following:\n",
    "+ If the prince begins his journey in a city that is on a corner, the prince has three plays:\n",
    "1. loop all the way around to the right\n",
    "2. loop all the way around to the left\n",
    "3. snake. Since we know what corner the prince is starting from there is only one snaking move\n",
    "\n",
    "+ If the prince begins his journey from a non corner at say index i of the upper string. He begins his journey by either\n",
    "1. looping to the left  until he is directly below or above where he started.\n",
    "2. looping to the right until he is directly below or above where he started.\n",
    "3. After this loop is complete, we save the route and concatenate the set of strings generated from a sub journey, where the prince is now starting at a corner of a sub province if you will.\n",
    "\n",
    "So... the key part of the solution is to create a recursive function get_routes.\n",
    "This function takes as inputs the grid to traverse (upper string and lower string) and which corner we started at (ll,lr,ul,ur) . It returns a list of strings satisfying the acceptable paths the prince can take.\n",
    "\n",
    "    "
   ]
  },
  {
   "cell_type": "code",
   "execution_count": 40,
   "metadata": {},
   "outputs": [],
   "source": [
    "def get_routes(upper,lower,corner):\n",
    "    N=len(upper)\n",
    "    routes = []\n",
    "    if corner == \"UL\":\n",
    "        if N == 1:\n",
    "            return [upper + lower]\n",
    "        if N == 2: \n",
    "            return [upper + lower[::-1], upper[0] + lower + upper[1]]\n",
    "        route = upper + lower[::-1] # loop clockwise\n",
    "        routes.append(route)\n",
    "        route = upper[0]+lower+upper[1:][::-1] # loop counterclockwise\n",
    "        routes.append(route)\n",
    "        route = upper[0]+lower[0:2]+upper[1]  # snake\n",
    "        for i in get_routes(upper[2:],lower[2:],corner):\n",
    "            routes.append(route + i)\n",
    "        return routes\n",
    "    \n",
    "    elif corner == \"UR\":\n",
    "        if N == 1:\n",
    "            return [upper + lower]\n",
    "        if N == 2:\n",
    "            return [upper[::-1] + lower, upper[1] + lower[1] + lower[0] + upper[0]]\n",
    "        route = upper[-1] + lower[::-1] + upper[:N-1] # loop clockwise\n",
    "        routes.append(route)\n",
    "        route = upper[::-1] + lower # loop counterclockwise\n",
    "        routes.append(route)\n",
    "        route = upper[-1] + lower[-1] + lower[-2] + upper[-2]   # snake\n",
    "        for i in get_routes(upper[:N-2], lower[:N-2], \"UR\"):\n",
    "            routes.append(route + i)\n",
    "        return routes\n",
    "    \n",
    "    elif corner == \"LR\":\n",
    "        if N == 1:\n",
    "            return [lower + upper]\n",
    "        if N == 2:\n",
    "            return [lower[::-1] + upper, lower[1] + upper[1]+ upper[0] + lower[0]]\n",
    "        route = lower[::-1] + upper # clockwise\n",
    "        routes.append(route)\n",
    "        route = lower[-1] + upper[::-1] + lower[:N-2] # counterclockise\n",
    "        routes.append(route)\n",
    "        route = lower[-1] + upper [-1] + upper[-2] + lower[-2] # snake\n",
    "        for i in get_routes(upper[:N-2],lower[:N-2],\"LR\"):\n",
    "            routes.append(route + i)\n",
    "        return routes\n",
    "    \n",
    "    else:   # corner == \"LL\"\n",
    "        if N == 1:\n",
    "            return [lower + upper]\n",
    "        if N == 2:\n",
    "            return [lower + upper[::-1], lower[0] + upper + lower[1]]\n",
    "        route = lower[0] + upper + lower[1:][::-1]  # clockwise\n",
    "        routes.append(route)\n",
    "        route = lower + upper[::-1]  #counterclockwise\n",
    "        routes.append(route)\n",
    "        route = lower[0] + upper[0:2] + lower[1]  # snake\n",
    "        for i in get_routes(upper[2:],lower[2:],\"LL\"):\n",
    "            routes.append(route + i)\n",
    "        return routes\n",
    "    \n",
    "        \n",
    "    \n",
    "    \n",
    "        \n",
    "    \n",
    "        \n",
    "        \n",
    "        \n",
    "     \n",
    "    "
   ]
  },
  {
   "cell_type": "code",
   "execution_count": 21,
   "metadata": {},
   "outputs": [
    {
     "data": {
      "text/plain": [
       "['davidhcone', 'denochdiva', 'denavidhco', 'denavochdi', 'denavocidh']"
      ]
     },
     "execution_count": 21,
     "metadata": {},
     "output_type": "execute_result"
    }
   ],
   "source": [
    "\n",
    "get_routes(\"david\",\"enoch\",\"UL\")"
   ]
  },
  {
   "cell_type": "code",
   "execution_count": 23,
   "metadata": {},
   "outputs": [
    {
     "data": {
      "text/plain": [
       "['de']"
      ]
     },
     "execution_count": 23,
     "metadata": {},
     "output_type": "execute_result"
    }
   ],
   "source": [
    "get_routes(\"d\",\"e\",\"UL\")"
   ]
  },
  {
   "cell_type": "code",
   "execution_count": 24,
   "metadata": {},
   "outputs": [
    {
     "data": {
      "text/plain": [
       "['ABCfed', 'AdefCB', 'AdeBCf']"
      ]
     },
     "execution_count": 24,
     "metadata": {},
     "output_type": "execute_result"
    }
   ],
   "source": [
    "get_routes (\"ABC\",\"def\",\"UL\")"
   ]
  },
  {
   "cell_type": "code",
   "execution_count": 26,
   "metadata": {},
   "outputs": [
    {
     "data": {
      "text/plain": [
       "['DAVIDENOCHhconedivad',\n",
       " 'DdavidenochHCONEDIVA',\n",
       " 'DdaAVIDENOCHhconediv',\n",
       " 'DdaAVvidenochHCONEDI',\n",
       " 'DdaAVviIDENOCHhconed',\n",
       " 'DdaAVviIDdenochHCONE',\n",
       " 'DdaAVviIDdeENOCHhcon',\n",
       " 'DdaAVviIDdeENnochHCO',\n",
       " 'DdaAVviIDdeENnoOCHhc',\n",
       " 'DdaAVviIDdeENnoOCchH']"
      ]
     },
     "execution_count": 26,
     "metadata": {},
     "output_type": "execute_result"
    }
   ],
   "source": [
    "get_routes (\"DAVIDENOCH\",\"davidenoch\",\"UL\")"
   ]
  },
  {
   "cell_type": "raw",
   "metadata": {},
   "source": [
    "OK so we write similar chunks of code for LL, LR, and UR but given that function, let's look at how we invoke it and how we deal with the knight starting his journey in a non corner city.\n"
   ]
  },
  {
   "cell_type": "code",
   "execution_count": 42,
   "metadata": {},
   "outputs": [
    {
     "name": "stdout",
     "output_type": "stream",
     "text": [
      "david\n",
      "enoch\n",
      "44\n",
      "{'dhcivoneda', 'nochdivade', 'hdicovaned', 'adenovidhc', 'avidhconed', 'denavidhco', 'dhcivonade', 'ivadenochd', 'nedavochdi', 'denavocidh', 'ochdivaden', 'denochdiva', 'idhcovade', 'edanochdiv', 'chdivoneda', 'hdiconedav', 'vidhconade', 'idhcovaned', 'edavidhcon', 'vadenocidh', 'divadenoch', 'dhcivadeno', 'onedavichd', 'conedavidh', 'chdivadeno', 'hconedavid', 'denavochdi', 'edanovidhc', 'adenovichd', 'vidhconeda', 'idhconedav', 'dhconedavi', 'edanovichd', 'chdivonade', 'enochdivad', 'ochdivaned', 'hdicovade', 'vadenochdi', 'nedavidhco', 'davidhcone', 'adenochdiv', 'nedavocidh', 'onedavidhc', 'hdivadeno'}\n"
     ]
    }
   ],
   "source": [
    "upper = input()\n",
    "lower = input()\n",
    "N = len(upper)\n",
    "routes =[]\n",
    "# start at upper[0] and go through lower[n-1] and get routes for when the knight starts on each city\n",
    "# We start at upper left corner\n",
    "\n",
    "for j in get_routes(upper,lower,\"UL\"):\n",
    "    routes.append(j)\n",
    "    \n",
    "# Now we do the upper inner cities\n",
    "\n",
    "for i in range(1,N-1):\n",
    "    # First we loop right\n",
    "    route = upper[i:] + lower[i:][::-1]\n",
    "    for j in get_routes(upper[:i],lower[:i],\"LR\"):\n",
    "        routes.append(route + j)\n",
    "        \n",
    "    # Then we loop left\n",
    "    route = upper[0:i+1][::-1] + lower[0:i+1]\n",
    "    for j in get_routes(upper[i+1:],lower[i+1:],\"LL\"):\n",
    "        routes.append(route + j)\n",
    "        \n",
    "# Next we handle upper right corner\n",
    "for j in get_routes(upper,lower,\"UR\"):\n",
    "    routes.append(j)\n",
    "    \n",
    "# Next comes lower left corner\n",
    "for j in get_routes(upper,lower,\"LL\"):\n",
    "    routes.append(j)\n",
    "    \n",
    "# Now lower inner cities\n",
    "for i in range(1,N-1):\n",
    "    #loop right\n",
    "    route = lower[i:] + upper[i:][::-1]\n",
    "    for j in get_routes(upper[:i],lower[:i],\"UR\"):\n",
    "        routes.append(route + j)\n",
    "    #loop left\n",
    "    route = lower[:i+1][::-1] + upper[:i+1]\n",
    "    for j in get_routes(upper[i+1:],lower[i+1:],\"UL\"):\n",
    "        routes.append(route + j)\n",
    "\n",
    "#Finally lower right corner\n",
    "for j in get_routes(upper,lower,\"LR\"):\n",
    "    routes.append(j)\n",
    "\n",
    "# Phew! Now we have all the possible routes (hopefully). Now let's get rid of duplicates.\n",
    "S = set(routes)\n",
    "print (len(S))\n",
    "print (S)"
   ]
  }
 ],
 "metadata": {
  "kernelspec": {
   "display_name": "Python 3",
   "language": "python",
   "name": "python3"
  },
  "language_info": {
   "codemirror_mode": {
    "name": "ipython",
    "version": 3
   },
   "file_extension": ".py",
   "mimetype": "text/x-python",
   "name": "python",
   "nbconvert_exporter": "python",
   "pygments_lexer": "ipython3",
   "version": "3.8.5"
  }
 },
 "nbformat": 4,
 "nbformat_minor": 4
}
